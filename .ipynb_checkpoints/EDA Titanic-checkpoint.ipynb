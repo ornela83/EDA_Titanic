{
 "cells": [
  {
   "cell_type": "markdown",
   "id": "e5b2dbc0",
   "metadata": {},
   "source": [
    "# EDA para el Titanic\n",
    "* Parte I: Análisis Exploratorio de datos(EDA):\n",
    "    ** Análisis de las características\n",
    "    ** Encontrar cualquier relación o tendencia considerando múltiples características.\n",
    "    \n",
    "* Parte II: Ingeniería de características y limpieza de datos\n",
    "    ** Agregar algunas características\n",
    "    ** Eliminación de funciones redundantes\n",
    "    ** Convertir características en forma adecuada para modelar"
   ]
  },
  {
   "cell_type": "code",
   "execution_count": 2,
   "id": "3efd05d6",
   "metadata": {},
   "outputs": [
    {
     "name": "stderr",
     "output_type": "stream",
     "text": [
      "UsageError: unrecognized arguments: ##para que los graficos aparezcan en la misma fila\n"
     ]
    }
   ],
   "source": [
    "import numpy as numpyp\n",
    "import pandas as pd \n",
    "import matplotlib.pyplot as plt\n",
    "import seaborn as sns\n",
    "\n",
    "import warnings\n",
    "warnings.filterwarnings('ignore') #ignora las advertencias que aparecen en el código\n",
    "\n",
    "%matplotlib inline #para que los graficos aparezcan en la misma fila"
   ]
  },
  {
   "cell_type": "code",
   "execution_count": null,
   "id": "37ab4d85",
   "metadata": {},
   "outputs": [],
   "source": []
  }
 ],
 "metadata": {
  "kernelspec": {
   "display_name": "Python 3",
   "language": "python",
   "name": "python3"
  },
  "language_info": {
   "codemirror_mode": {
    "name": "ipython",
    "version": 3
   },
   "file_extension": ".py",
   "mimetype": "text/x-python",
   "name": "python",
   "nbconvert_exporter": "python",
   "pygments_lexer": "ipython3",
   "version": "3.8.8"
  }
 },
 "nbformat": 4,
 "nbformat_minor": 5
}
